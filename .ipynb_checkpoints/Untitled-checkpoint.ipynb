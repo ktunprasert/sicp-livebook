{
 "cells": [
  {
   "cell_type": "code",
   "execution_count": 2,
   "id": "94f23452-4bc1-4051-b0b9-0c7590eab553",
   "metadata": {
    "editable": true,
    "slideshow": {
     "slide_type": ""
    },
    "tags": []
   },
   "outputs": [
    {
     "name": "stdout",
     "output_type": "stream",
     "text": [
      "\"hi\"\n",
      "\"ho\"\n"
     ]
    }
   ],
   "source": [
    "(println \"hi\")\n",
    "(define (p x) (println x))\n",
    "\n",
    "(p \"ho\")"
   ]
  }
 ],
 "metadata": {
  "kernelspec": {
   "display_name": "Racket",
   "language": "racket",
   "name": "racket"
  },
  "language_info": {
   "codemirror_mode": "scheme",
   "file_extension": ".rkt",
   "mimetype": "text/x-racket",
   "name": "Racket",
   "pygments_lexer": "racket",
   "version": "8.17"
  }
 },
 "nbformat": 4,
 "nbformat_minor": 5
}
