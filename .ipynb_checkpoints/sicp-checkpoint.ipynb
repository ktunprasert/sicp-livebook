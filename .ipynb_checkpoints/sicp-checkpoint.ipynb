{
 "cells": [
  {
   "cell_type": "markdown",
   "id": "af2281f3-6d27-4ff2-96a8-4ee32e75ba99",
   "metadata": {},
   "source": [
    "# SICP\n",
    "## 1.1"
   ]
  },
  {
   "cell_type": "code",
   "execution_count": 2,
   "id": "0af79481-c4b5-415d-9b46-eaeeb1fec5b0",
   "metadata": {},
   "outputs": [
    {
     "data": {
      "text/html": [
       "<code>16</code>"
      ],
      "text/plain": [
       "16"
      ]
     },
     "execution_count": 2,
     "metadata": {},
     "output_type": "execute_result"
    }
   ],
   "source": [
    "10\n",
    "(+ 5 3 4)\n",
    "(- 9 1)\n",
    "(/ 6 2)\n",
    "(+ (* 2 4) (- 4 6))\n",
    "(define a 3)\n",
    "(define b (+ a 1))\n",
    "(+ a b (* a b))\n",
    "(= a b)\n",
    "(if (and (> b a) (< b (* a b))) b a)\n",
    "(cond\n",
    "  [(= a 4) 6]\n",
    "  [(= b 4) (+ 6 7 a)]\n",
    "  [else 25])\n",
    "(+ 2 (if (> b a) b a))\n",
    "(* (cond\n",
    "     [(> a b) a]\n",
    "     [(< a b) b]\n",
    "     [else -1])\n",
    "   (+ a 1))"
   ]
  }
 ],
 "metadata": {
  "kernelspec": {
   "display_name": "Racket",
   "language": "racket",
   "name": "racket"
  },
  "language_info": {
   "codemirror_mode": "scheme",
   "file_extension": ".rkt",
   "mimetype": "text/x-racket",
   "name": "Racket",
   "pygments_lexer": "racket",
   "version": "8.17"
  }
 },
 "nbformat": 4,
 "nbformat_minor": 5
}
